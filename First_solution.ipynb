{
  "nbformat": 4,
  "nbformat_minor": 0,
  "metadata": {
    "colab": {
      "name": "Untitled8.ipynb",
      "provenance": [],
      "authorship_tag": "ABX9TyO+NHX/QNr+5BORsWQPDPSm",
      "include_colab_link": true
    },
    "kernelspec": {
      "name": "python3",
      "display_name": "Python 3"
    },
    "language_info": {
      "name": "python"
    }
  },
  "cells": [
    {
      "cell_type": "markdown",
      "metadata": {
        "id": "view-in-github",
        "colab_type": "text"
      },
      "source": [
        "<a href=\"https://colab.research.google.com/github/stazam/M7DataSp---Advanced-data-science-techniques/blob/main/First_solution.ipynb\" target=\"_parent\"><img src=\"https://colab.research.google.com/assets/colab-badge.svg\" alt=\"Open In Colab\"/></a>"
      ]
    },
    {
      "cell_type": "code",
      "execution_count": 1,
      "metadata": {
        "colab": {
          "resources": {
            "http://localhost:8080/nbextensions/google.colab/files.js": {
              "data": "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",
              "ok": true,
              "headers": [
                [
                  "content-type",
                  "application/javascript"
                ]
              ],
              "status": 200,
              "status_text": ""
            }
          },
          "base_uri": "https://localhost:8080/",
          "height": 1000
        },
        "id": "Z52qevbFXxrR",
        "outputId": "26598ad5-ea99-4ca1-fc52-0ef95b565146"
      },
      "outputs": [
        {
          "output_type": "display_data",
          "data": {
            "text/plain": [
              "<IPython.core.display.HTML object>"
            ],
            "text/html": [
              "\n",
              "     <input type=\"file\" id=\"files-85a2ad66-2f30-4ea6-9909-47670447e685\" name=\"files[]\" multiple disabled\n",
              "        style=\"border:none\" />\n",
              "     <output id=\"result-85a2ad66-2f30-4ea6-9909-47670447e685\">\n",
              "      Upload widget is only available when the cell has been executed in the\n",
              "      current browser session. Please rerun this cell to enable.\n",
              "      </output>\n",
              "      <script src=\"/nbextensions/google.colab/files.js\"></script> "
            ]
          },
          "metadata": {}
        },
        {
          "output_type": "stream",
          "name": "stdout",
          "text": [
            "Saving tae_1.jpg to tae_1.jpg\n",
            "Saving tae_2.png to tae_2.png\n",
            "Saving tae_3.jpeg to tae_3.jpeg\n",
            "Saving tae_4.jpeg to tae_4.jpeg\n",
            "Saving tae_5.jpeg to tae_5.jpeg\n",
            "Saving tae_6.jpeg to tae_6.jpeg\n",
            "Saving tae_7.jpeg to tae_7.jpeg\n",
            "Saving tae_8.jpeg to tae_8.jpeg\n",
            "Saving tae_9.jpeg to tae_9.jpeg\n",
            "Saving tae_10.jpeg to tae_10.jpeg\n",
            "Saving tae_11.jpeg to tae_11.jpeg\n",
            "Saving tae_12.jpeg to tae_12.jpeg\n",
            "Saving tae_13.png to tae_13.png\n",
            "Saving tae_14.jpeg to tae_14.jpeg\n",
            "Saving tae_15.jpeg to tae_15.jpeg\n",
            "Saving tae_16.jpeg to tae_16.jpeg\n",
            "Saving tae_17.jpeg to tae_17.jpeg\n",
            "Saving tae_18.jpeg to tae_18.jpeg\n",
            "Saving tae_19.jpeg to tae_19.jpeg\n",
            "Saving tae_20.jpeg to tae_20.jpeg\n",
            "Saving tae_21.jpeg to tae_21.jpeg\n",
            "Saving tae_22.jpeg to tae_22.jpeg\n",
            "Saving tae_23.jpeg to tae_23.jpeg\n",
            "Saving tae_24.png to tae_24.png\n",
            "Saving tae_25.jpeg to tae_25.jpeg\n",
            "Saving tae_26.jpeg to tae_26.jpeg\n",
            "Saving tae_27.jpeg to tae_27.jpeg\n",
            "Saving tae_28.jpeg to tae_28.jpeg\n",
            "Saving tae_29.png to tae_29.png\n",
            "Saving tae_30.jpeg to tae_30.jpeg\n",
            "Saving tae_31.jpeg to tae_31.jpeg\n",
            "Saving tae_32.jpeg to tae_32.jpeg\n",
            "Saving tae_33.jpeg to tae_33.jpeg\n",
            "Saving tae_34.jpeg to tae_34.jpeg\n",
            "Saving tae_35.png to tae_35.png\n",
            "Saving tae_36.jpeg to tae_36.jpeg\n",
            "Saving tae_37.jpeg to tae_37.jpeg\n",
            "Saving tae_38.jpeg to tae_38.jpeg\n",
            "Saving tae_39.jpg to tae_39.jpg\n",
            "Saving tae_40.jpeg to tae_40.jpeg\n",
            "Saving tae_41.jpeg to tae_41.jpeg\n",
            "Saving tae_42.jpeg to tae_42.jpeg\n",
            "Saving tae_43.jpeg to tae_43.jpeg\n",
            "Saving tae_44.jpeg to tae_44.jpeg\n",
            "Saving tae_45.jpeg to tae_45.jpeg\n",
            "Saving tae_46.jpeg to tae_46.jpeg\n",
            "Saving tae_47.jpeg to tae_47.jpeg\n",
            "Saving tae_48.jpeg to tae_48.jpeg\n",
            "Saving tae_49.jpeg to tae_49.jpeg\n",
            "Saving tae_50.png to tae_50.png\n",
            "Saving tae_51.jpeg to tae_51.jpeg\n",
            "Saving tae_52.jpeg to tae_52.jpeg\n",
            "Saving tae_53.jpeg to tae_53.jpeg\n",
            "Saving tae_54.jpeg to tae_54.jpeg\n",
            "Saving tae_55.jpeg to tae_55.jpeg\n",
            "Saving tae_56.jpeg to tae_56.jpeg\n",
            "Saving tae_57.jpeg to tae_57.jpeg\n",
            "Saving tae_58.jpeg to tae_58.jpeg\n",
            "Saving tae_59.jpeg to tae_59.jpeg\n",
            "Saving tae_60.jpeg to tae_60.jpeg\n",
            "Saving tae_61.jpeg to tae_61.jpeg\n",
            "Saving tae_62.jpeg to tae_62.jpeg\n",
            "Saving tae_63.jpeg to tae_63.jpeg\n",
            "Saving tae_64.jpeg to tae_64.jpeg\n",
            "Saving tae_65.jpeg to tae_65.jpeg\n",
            "Saving tae_66.jpeg to tae_66.jpeg\n",
            "Saving tae_67.jpeg to tae_67.jpeg\n",
            "Saving tae_68.jpeg to tae_68.jpeg\n",
            "Saving tae_69.jpeg to tae_69.jpeg\n",
            "Saving tae_70.jpeg to tae_70.jpeg\n",
            "Saving tae_71.jpeg to tae_71.jpeg\n",
            "Saving tae_72.jpeg to tae_72.jpeg\n",
            "Saving tae_73.jpeg to tae_73.jpeg\n",
            "Saving tae_74.jpeg to tae_74.jpeg\n",
            "Saving tae_75.jpeg to tae_75.jpeg\n",
            "Saving tae_76.jpeg to tae_76.jpeg\n",
            "Saving tae_77.jpeg to tae_77.jpeg\n",
            "Saving tae_78.jpeg to tae_78.jpeg\n",
            "Saving tae_79.jpeg to tae_79.jpeg\n",
            "Saving tae_80.jpeg to tae_80.jpeg\n",
            "Saving tae_81.jpeg to tae_81.jpeg\n",
            "Saving tae_82.jpeg to tae_82.jpeg\n",
            "Saving tae_83.jpeg to tae_83.jpeg\n",
            "Saving tae_84.jpeg to tae_84.jpeg\n",
            "Saving tae_85.jpeg to tae_85.jpeg\n",
            "Saving tae_86.jpeg to tae_86.jpeg\n",
            "Saving tae_87.jpeg to tae_87.jpeg\n",
            "Saving tae_88.jpeg to tae_88.jpeg\n",
            "Saving tae_89.jpeg to tae_89.jpeg\n",
            "Saving tae_90.jpeg to tae_90.jpeg\n",
            "Saving tae_91.jpeg to tae_91.jpeg\n",
            "Saving tae_92.jpeg to tae_92.jpeg\n",
            "Saving tae_93.jpeg to tae_93.jpeg\n",
            "Saving tae_94.jpeg to tae_94.jpeg\n",
            "Saving tae_95.jpeg to tae_95.jpeg\n",
            "Saving tae_96.jpeg to tae_96.jpeg\n",
            "Saving tae_97.jpeg to tae_97.jpeg\n",
            "Saving tae_98.jpeg to tae_98.jpeg\n",
            "Saving tae_99.jpeg to tae_99.jpeg\n",
            "Saving tae_100.jpeg to tae_100.jpeg\n",
            "Saving tae_101.jpeg to tae_101.jpeg\n",
            "Saving tae_102.jpeg to tae_102.jpeg\n",
            "Saving tae_103.jpeg to tae_103.jpeg\n",
            "Saving tae_104.jpeg to tae_104.jpeg\n",
            "Saving tae_105.jpeg to tae_105.jpeg\n",
            "Saving tae_106.jpeg to tae_106.jpeg\n",
            "Saving tae_107.jpeg to tae_107.jpeg\n",
            "Saving tae_108.jpeg to tae_108.jpeg\n",
            "Saving tae_109.jpeg to tae_109.jpeg\n",
            "Saving tae_110.jpeg to tae_110.jpeg\n",
            "Saving tae_111.jpeg to tae_111.jpeg\n",
            "Saving tae_112.jpg to tae_112.jpg\n",
            "Saving tae_113.jpeg to tae_113.jpeg\n",
            "Saving tae_114.jpeg to tae_114.jpeg\n",
            "Saving tae_115.png to tae_115.png\n",
            "Saving tae_116.jpeg to tae_116.jpeg\n",
            "Saving tae_117.jpeg to tae_117.jpeg\n",
            "Saving tae_118.jpeg to tae_118.jpeg\n",
            "Saving tae_119.jpeg to tae_119.jpeg\n",
            "Saving tae_120.jpeg to tae_120.jpeg\n",
            "Saving tae_121.jpeg to tae_121.jpeg\n",
            "Saving tae_122.jpeg to tae_122.jpeg\n",
            "Saving tae_123.jpeg to tae_123.jpeg\n",
            "Saving tae_124.jpeg to tae_124.jpeg\n",
            "Saving tae_125.jpeg to tae_125.jpeg\n",
            "Saving tae_126.jpeg to tae_126.jpeg\n",
            "Saving tae_127.jpeg to tae_127.jpeg\n",
            "Saving tae_128.jpeg to tae_128.jpeg\n",
            "Saving tae_129.jpeg to tae_129.jpeg\n",
            "Saving tae_130.jpeg to tae_130.jpeg\n",
            "Saving tae_131.jpeg to tae_131.jpeg\n",
            "Saving tae_132.jpeg to tae_132.jpeg\n",
            "Saving tae_133.jpeg to tae_133.jpeg\n",
            "Saving tae_134.jpeg to tae_134.jpeg\n",
            "Saving tae_135.jpeg to tae_135.jpeg\n",
            "Saving tae_136.jpeg to tae_136.jpeg\n",
            "Saving tae_137.jpeg to tae_137.jpeg\n",
            "Saving tae_138.jpeg to tae_138.jpeg\n",
            "Saving tae_139.jpeg to tae_139.jpeg\n",
            "Saving tae_140.jpeg to tae_140.jpeg\n",
            "Saving tae_141.jpeg to tae_141.jpeg\n",
            "Saving tae_142.jpeg to tae_142.jpeg\n",
            "Saving tae_143.jpeg to tae_143.jpeg\n",
            "Saving tae_144.jpeg to tae_144.jpeg\n",
            "Saving tae_145.jpeg to tae_145.jpeg\n",
            "Saving tae_146.jpeg to tae_146.jpeg\n",
            "Saving tae_147.jpeg to tae_147.jpeg\n",
            "Saving tae_148.jpeg to tae_148.jpeg\n",
            "Saving tae_149.jpeg to tae_149.jpeg\n",
            "Saving tae_150.png to tae_150.png\n",
            "Saving tae_151.jpeg to tae_151.jpeg\n",
            "Saving tae_152.jpeg to tae_152.jpeg\n",
            "Saving tae_153.jpeg to tae_153.jpeg\n",
            "Saving tae_154.jpeg to tae_154.jpeg\n",
            "Saving tae_155.jpeg to tae_155.jpeg\n",
            "Saving tae_156.png to tae_156.png\n",
            "Saving tae_157.jpg to tae_157.jpg\n",
            "Saving tae_158.jpeg to tae_158.jpeg\n",
            "Saving tae_159.jpeg to tae_159.jpeg\n",
            "Saving tae_160.jpeg to tae_160.jpeg\n",
            "Saving tae_161.jpg to tae_161.jpg\n",
            "Saving tae_162.jpeg to tae_162.jpeg\n",
            "Saving tae_163.jpeg to tae_163.jpeg\n",
            "Saving tae_164.jpeg to tae_164.jpeg\n",
            "Saving tae_165.jpeg to tae_165.jpeg\n",
            "Saving tae_166.jpeg to tae_166.jpeg\n",
            "Saving tae_167.jpeg to tae_167.jpeg\n",
            "Saving tae_168.jpeg to tae_168.jpeg\n",
            "Saving tae_169.jpeg to tae_169.jpeg\n",
            "Saving tae_170.jpeg to tae_170.jpeg\n",
            "Saving tae_171.jpeg to tae_171.jpeg\n",
            "Saving tae_172.jpeg to tae_172.jpeg\n",
            "Saving tae_173.jpeg to tae_173.jpeg\n",
            "Saving tae_174.jpeg to tae_174.jpeg\n",
            "Saving tae_175.jpeg to tae_175.jpeg\n",
            "Saving tae_176.jpeg to tae_176.jpeg\n",
            "Saving tae_177.jpeg to tae_177.jpeg\n",
            "Saving tae_178.jpeg to tae_178.jpeg\n",
            "Saving tae_179.png to tae_179.png\n",
            "Saving tae_180.jpeg to tae_180.jpeg\n",
            "Saving tae_181.png to tae_181.png\n",
            "Saving tae_182.png to tae_182.png\n",
            "Saving tae_183.png to tae_183.png\n",
            "Saving tae_184.png to tae_184.png\n",
            "Saving tae_185.png to tae_185.png\n",
            "Saving tae_186.jpeg to tae_186.jpeg\n",
            "Saving tae_187.jpeg to tae_187.jpeg\n",
            "Saving tae_188.jpeg to tae_188.jpeg\n",
            "Saving tae_189.jpeg to tae_189.jpeg\n",
            "Saving tae_190.jpeg to tae_190.jpeg\n",
            "Saving tae_191.jpeg to tae_191.jpeg\n",
            "Saving tae_192.jpeg to tae_192.jpeg\n",
            "Saving tae_193.jpeg to tae_193.jpeg\n",
            "Saving tae_194.jpeg to tae_194.jpeg\n",
            "Saving tae_195.jpeg to tae_195.jpeg\n",
            "Saving tae_196.jpeg to tae_196.jpeg\n",
            "Saving tae_197.jpeg to tae_197.jpeg\n",
            "Saving tae_198.jpeg to tae_198.jpeg\n",
            "Saving tae_199.jpeg to tae_199.jpeg\n",
            "Saving tae_200.jpeg to tae_200.jpeg\n",
            "Saving tae_201.jpeg to tae_201.jpeg\n",
            "Saving tae_202.jpeg to tae_202.jpeg\n",
            "Saving tae_203.jpeg to tae_203.jpeg\n",
            "Saving tae_204.jpeg to tae_204.jpeg\n",
            "Saving tae_205.png to tae_205.png\n",
            "Saving tae_206.jpeg to tae_206.jpeg\n",
            "Saving tae_207.jpeg to tae_207.jpeg\n",
            "Saving tae_208.jpeg to tae_208.jpeg\n",
            "Saving tae_209.jpeg to tae_209.jpeg\n",
            "Saving tae_210.jpeg to tae_210.jpeg\n",
            "Saving tae_211.jpeg to tae_211.jpeg\n",
            "Saving tae_212.jpeg to tae_212.jpeg\n",
            "Saving tae_213.jpeg to tae_213.jpeg\n",
            "Saving tae_214.jpeg to tae_214.jpeg\n",
            "Saving tae_215.jpeg to tae_215.jpeg\n",
            "Saving tae_216.png to tae_216.png\n",
            "Saving tae_217.jpeg to tae_217.jpeg\n",
            "Saving tae_218.jpeg to tae_218.jpeg\n",
            "Saving tae_219.jpeg to tae_219.jpeg\n",
            "Saving tae_220.jpeg to tae_220.jpeg\n",
            "Saving tae_221.jpg to tae_221.jpg\n",
            "Saving tae_222.jpeg to tae_222.jpeg\n",
            "Saving tae_223.jpeg to tae_223.jpeg\n",
            "Saving tae_224.jpeg to tae_224.jpeg\n",
            "Saving tae_225.jpeg to tae_225.jpeg\n",
            "Saving tae_226.jpeg to tae_226.jpeg\n",
            "Saving tae_227.jpeg to tae_227.jpeg\n",
            "Saving tae_228.jpeg to tae_228.jpeg\n",
            "Saving tae_229.jpeg to tae_229.jpeg\n",
            "Saving tae_230.jpeg to tae_230.jpeg\n",
            "Saving tae_231.jpeg to tae_231.jpeg\n",
            "Saving tae_232.jpg to tae_232.jpg\n",
            "Saving tae_233.jpeg to tae_233.jpeg\n",
            "Saving tae_234.jpeg to tae_234.jpeg\n",
            "Saving tae_235.jpeg to tae_235.jpeg\n",
            "Saving tae_236.jpeg to tae_236.jpeg\n",
            "Saving tae_237.jpeg to tae_237.jpeg\n",
            "Saving tae_238.jpeg to tae_238.jpeg\n",
            "Saving tae_239.png to tae_239.png\n",
            "Saving tae_240.png to tae_240.png\n",
            "Saving tae_241.jpeg to tae_241.jpeg\n",
            "Saving tae_242.jpeg to tae_242.jpeg\n",
            "Saving tae_243.jpg to tae_243.jpg\n",
            "Saving tae_244.jpeg to tae_244.jpeg\n",
            "Saving tae_245.jpeg to tae_245.jpeg\n",
            "Saving tae_246.jpeg to tae_246.jpeg\n",
            "Saving tae_247.jpeg to tae_247.jpeg\n",
            "Saving tae_248.png to tae_248.png\n",
            "Saving tae_249.jpeg to tae_249.jpeg\n",
            "Saving tae_250.jpeg to tae_250.jpeg\n",
            "Saving tae_251.jpeg to tae_251.jpeg\n",
            "Saving tae_252.jpg to tae_252.jpg\n",
            "Saving tae_253.jpeg to tae_253.jpeg\n",
            "Saving tae_254.jpg to tae_254.jpg\n",
            "Saving tae_255.jpeg to tae_255.jpeg\n",
            "Saving tae_256.jpeg to tae_256.jpeg\n",
            "Saving tae_257.jpeg to tae_257.jpeg\n",
            "Saving tae_258.jpeg to tae_258.jpeg\n",
            "Saving tae_259.jpeg to tae_259.jpeg\n",
            "Saving tae_260.jpeg to tae_260.jpeg\n",
            "Saving tae_261.jpeg to tae_261.jpeg\n",
            "Saving tae_262.jpeg to tae_262.jpeg\n",
            "Saving tae_263.jpeg to tae_263.jpeg\n",
            "Saving tae_264.jpeg to tae_264.jpeg\n",
            "Saving tae_265.png to tae_265.png\n",
            "Saving tae_266.jpeg to tae_266.jpeg\n",
            "Saving tae_267.jpeg to tae_267.jpeg\n",
            "Saving tae_268.jpeg to tae_268.jpeg\n",
            "Saving tae_269.png to tae_269.png\n",
            "Saving tae_270.jpeg to tae_270.jpeg\n",
            "Saving tae_271.jpeg to tae_271.jpeg\n",
            "Saving tae_272.jpeg to tae_272.jpeg\n",
            "Saving tae_273.jpeg to tae_273.jpeg\n",
            "Saving tae_274.jpeg to tae_274.jpeg\n",
            "Saving tae_275.jpeg to tae_275.jpeg\n",
            "Saving tae_276.jpg to tae_276.jpg\n",
            "Saving tae_277.jpeg to tae_277.jpeg\n",
            "Saving tae_278.jpeg to tae_278.jpeg\n",
            "Saving tae_279.jpeg to tae_279.jpeg\n",
            "Saving tae_280.jpeg to tae_280.jpeg\n",
            "Saving tae_281.jpeg to tae_281.jpeg\n",
            "Saving tae_282.jpeg to tae_282.jpeg\n",
            "Saving tae_283.jpeg to tae_283.jpeg\n",
            "Saving tae_284.jpeg to tae_284.jpeg\n",
            "Saving tae_285.png to tae_285.png\n",
            "Saving tae_286.jpeg to tae_286.jpeg\n",
            "Saving tae_287.jpg to tae_287.jpg\n",
            "Saving tae_288.png to tae_288.png\n",
            "Saving tae_289.jpeg to tae_289.jpeg\n",
            "Saving tae_290.jpeg to tae_290.jpeg\n",
            "Saving tae_291.jpeg to tae_291.jpeg\n",
            "Saving tae_292.jpeg to tae_292.jpeg\n",
            "Saving tae_293.jpeg to tae_293.jpeg\n",
            "Saving tae_294.jpeg to tae_294.jpeg\n",
            "Saving tae_295.jpeg to tae_295.jpeg\n",
            "Saving tae_296.jpeg to tae_296.jpeg\n",
            "Saving tae_297.jpeg to tae_297.jpeg\n",
            "Saving tae_298.png to tae_298.png\n",
            "Saving tae_299.png to tae_299.png\n",
            "Saving tae_300.jpg to tae_300.jpg\n"
          ]
        }
      ],
      "source": [
        "from google.colab import files\n",
        "uploaded = files.upload()"
      ]
    },
    {
      "cell_type": "code",
      "source": [
        "from google.colab import files\n",
        "uploaded = files.upload()"
      ],
      "metadata": {
        "colab": {
          "resources": {
            "http://localhost:8080/nbextensions/google.colab/files.js": {
              "data": "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",
              "ok": true,
              "headers": [
                [
                  "content-type",
                  "application/javascript"
                ]
              ],
              "status": 200,
              "status_text": ""
            }
          },
          "base_uri": "https://localhost:8080/",
          "height": 1000
        },
        "id": "0DFGJ71ZayhG",
        "outputId": "4b5d82e8-4909-4524-d7f3-2b4f0c01e429"
      },
      "execution_count": 60,
      "outputs": [
        {
          "output_type": "display_data",
          "data": {
            "text/plain": [
              "<IPython.core.display.HTML object>"
            ],
            "text/html": [
              "\n",
              "     <input type=\"file\" id=\"files-a261eb17-e5bc-449b-a964-c99517820d3d\" name=\"files[]\" multiple disabled\n",
              "        style=\"border:none\" />\n",
              "     <output id=\"result-a261eb17-e5bc-449b-a964-c99517820d3d\">\n",
              "      Upload widget is only available when the cell has been executed in the\n",
              "      current browser session. Please rerun this cell to enable.\n",
              "      </output>\n",
              "      <script src=\"/nbextensions/google.colab/files.js\"></script> "
            ]
          },
          "metadata": {}
        },
        {
          "output_type": "stream",
          "name": "stdout",
          "text": [
            "Saving plug_cable_1.jpeg to plug_cable_1.jpeg\n",
            "Saving plug_cable_2.jpeg to plug_cable_2.jpeg\n",
            "Saving plug_cable_3.jpeg to plug_cable_3.jpeg\n",
            "Saving plug_cable_4.jpeg to plug_cable_4.jpeg\n",
            "Saving plug_cable_5.jpeg to plug_cable_5.jpeg\n",
            "Saving plug_cable_6.jpeg to plug_cable_6.jpeg\n",
            "Saving plug_cable_7.jpeg to plug_cable_7.jpeg\n",
            "Saving plug_cable_8.jpeg to plug_cable_8.jpeg\n",
            "Saving plug_cable_9.jpeg to plug_cable_9.jpeg\n",
            "Saving plug_cable_10.jpeg to plug_cable_10.jpeg\n",
            "Saving plug_cable_11.jpeg to plug_cable_11.jpeg\n",
            "Saving plug_cable_12.jpeg to plug_cable_12.jpeg\n",
            "Saving plug_cable_13.jpeg to plug_cable_13.jpeg\n",
            "Saving plug_cable_14.jpeg to plug_cable_14.jpeg\n",
            "Saving plug_cable_15.jpeg to plug_cable_15.jpeg\n",
            "Saving plug_cable_16.jpeg to plug_cable_16.jpeg\n",
            "Saving plug_cable_17.jpeg to plug_cable_17.jpeg\n",
            "Saving plug_cable_18.jpeg to plug_cable_18.jpeg\n",
            "Saving plug_cable_19.jpeg to plug_cable_19.jpeg\n",
            "Saving plug_cable_20.jpeg to plug_cable_20.jpeg\n",
            "Saving plug_cable_21.jpeg to plug_cable_21.jpeg\n",
            "Saving plug_cable_22.jpeg to plug_cable_22.jpeg\n",
            "Saving plug_cable_23.png to plug_cable_23.png\n",
            "Saving plug_cable_24.jpeg to plug_cable_24.jpeg\n",
            "Saving plug_cable_25.jpeg to plug_cable_25.jpeg\n",
            "Saving plug_cable_26.jpeg to plug_cable_26.jpeg\n",
            "Saving plug_cable_27.jpeg to plug_cable_27.jpeg\n",
            "Saving plug_cable_28.jpeg to plug_cable_28.jpeg\n",
            "Saving plug_cable_29.jpeg to plug_cable_29.jpeg\n",
            "Saving plug_cable_30.jpeg to plug_cable_30.jpeg\n",
            "Saving plug_cable_31.jpeg to plug_cable_31.jpeg\n",
            "Saving plug_cable_32.png to plug_cable_32.png\n",
            "Saving plug_cable_33.jpeg to plug_cable_33.jpeg\n",
            "Saving plug_cable_34.webp to plug_cable_34.webp\n",
            "Saving plug_cable_35.jpeg to plug_cable_35.jpeg\n",
            "Saving plug_cable_36.jpeg to plug_cable_36.jpeg\n",
            "Saving plug_cable_37.jpeg to plug_cable_37.jpeg\n",
            "Saving plug_cable_38.jpeg to plug_cable_38.jpeg\n",
            "Saving plug_cable_39.png to plug_cable_39.png\n",
            "Saving plug_cable_40.jpeg to plug_cable_40.jpeg\n",
            "Saving plug_cable_41.jpeg to plug_cable_41.jpeg\n",
            "Saving plug_cable_42.jpeg to plug_cable_42.jpeg\n",
            "Saving plug_cable_43.jpeg to plug_cable_43.jpeg\n",
            "Saving plug_cable_45.jpeg to plug_cable_45.jpeg\n",
            "Saving plug_cable_46.jpeg to plug_cable_46.jpeg\n",
            "Saving plug_cable_47.jpeg to plug_cable_47.jpeg\n",
            "Saving plug_cable_48.jpeg to plug_cable_48.jpeg\n",
            "Saving plug_cable_49.jpeg to plug_cable_49.jpeg\n",
            "Saving plug_cable_50.jpeg to plug_cable_50.jpeg\n",
            "Saving plug_cable_51.jpeg to plug_cable_51.jpeg\n",
            "Saving plug_cable_52.jpeg to plug_cable_52.jpeg\n",
            "Saving plug_cable_53.jpeg to plug_cable_53.jpeg\n",
            "Saving plug_cable_54.jpeg to plug_cable_54.jpeg\n",
            "Saving plug_cable_55.jpeg to plug_cable_55.jpeg\n",
            "Saving plug_cable_56.jpeg to plug_cable_56.jpeg\n",
            "Saving plug_cable_57.jpeg to plug_cable_57.jpeg\n",
            "Saving plug_cable_58.jpeg to plug_cable_58.jpeg\n",
            "Saving plug_cable_59.jpeg to plug_cable_59.jpeg\n",
            "Saving plug_cable_60.jpeg to plug_cable_60.jpeg\n",
            "Saving plug_cable_61.jpeg to plug_cable_61.jpeg\n",
            "Saving plug_cable_63.jpeg to plug_cable_63.jpeg\n",
            "Saving plug_cable_64.jpeg to plug_cable_64.jpeg\n",
            "Saving plug_cable_65.png to plug_cable_65.png\n",
            "Saving plug_cable_66.jpeg to plug_cable_66.jpeg\n",
            "Saving plug_cable_67.jpeg to plug_cable_67.jpeg\n",
            "Saving plug_cable_68.jpeg to plug_cable_68.jpeg\n",
            "Saving plug_cable_69.jpeg to plug_cable_69.jpeg\n",
            "Saving plug_cable_70.jpeg to plug_cable_70.jpeg\n",
            "Saving plug_cable_71.jpeg to plug_cable_71.jpeg\n",
            "Saving plug_cable_72.jpeg to plug_cable_72.jpeg\n",
            "Saving plug_cable_73.jpeg to plug_cable_73.jpeg\n",
            "Saving plug_cable_74.jpeg to plug_cable_74.jpeg\n",
            "Saving plug_cable_75.jpeg to plug_cable_75.jpeg\n",
            "Saving plug_cable_76.jpeg to plug_cable_76.jpeg\n",
            "Saving plug_cable_77.jpeg to plug_cable_77.jpeg\n",
            "Saving plug_cable_78.jpeg to plug_cable_78.jpeg\n",
            "Saving plug_cable_79.jpeg to plug_cable_79.jpeg\n",
            "Saving plug_cable_80.jpeg to plug_cable_80.jpeg\n",
            "Saving plug_cable_81.jpeg to plug_cable_81.jpeg\n",
            "Saving plug_cable_82.jpeg to plug_cable_82.jpeg\n",
            "Saving plug_cable_83.jpeg to plug_cable_83.jpeg\n",
            "Saving plug_cable_84.jpeg to plug_cable_84.jpeg\n",
            "Saving plug_cable_85.jpeg to plug_cable_85.jpeg\n",
            "Saving plug_cable_86.jpeg to plug_cable_86.jpeg\n",
            "Saving plug_cable_87.jpeg to plug_cable_87.jpeg\n",
            "Saving plug_cable_88.jpeg to plug_cable_88.jpeg\n",
            "Saving plug_cable_89.jpeg to plug_cable_89.jpeg\n",
            "Saving plug_cable_90.jpeg to plug_cable_90.jpeg\n",
            "Saving plug_cable_91.jpeg to plug_cable_91.jpeg\n",
            "Saving plug_cable_92.jpeg to plug_cable_92.jpeg\n",
            "Saving plug_cable_93.png to plug_cable_93.png\n",
            "Saving plug_cable_94.jpeg to plug_cable_94.jpeg\n",
            "Saving plug_cable_95.jpeg to plug_cable_95.jpeg\n",
            "Saving plug_cable_96.jpeg to plug_cable_96.jpeg\n",
            "Saving plug_cable_97.jpeg to plug_cable_97.jpeg\n",
            "Saving plug_cable_98.jpeg to plug_cable_98.jpeg\n",
            "Saving plug_cable_99.jpeg to plug_cable_99.jpeg\n",
            "Saving plug_cable_100.jpeg to plug_cable_100.jpeg\n",
            "Saving plug_cable_101.jpeg to plug_cable_101.jpeg\n",
            "Saving plug_cable_102.jpeg to plug_cable_102.jpeg\n"
          ]
        }
      ]
    },
    {
      "cell_type": "code",
      "source": [
        "labels = pd.read_excel('/content/Lables_TAE.xlsx')\n",
        "labels_set = dict(zip(labels.Picture,labels.Label))"
      ],
      "metadata": {
        "id": "DxI1Wnuka7pc"
      },
      "execution_count": 88,
      "outputs": []
    },
    {
      "cell_type": "code",
      "source": [
        "import matplotlib.pyplot as plt\n",
        "import numpy as np\n",
        "import pandas as pd\n",
        "\n",
        "import tensorflow as tf\n",
        "from tensorflow import keras\n",
        "from tensorflow.keras import layers"
      ],
      "metadata": {
        "id": "_ThNBdmfYxdt"
      },
      "execution_count": 2,
      "outputs": []
    },
    {
      "cell_type": "code",
      "source": [
        "from sklearn.model_selection import train_test_split"
      ],
      "metadata": {
        "id": "XdNP4NUmYL_8"
      },
      "execution_count": 4,
      "outputs": []
    },
    {
      "cell_type": "code",
      "source": [
        "import os \n",
        "import cv2\n",
        "local_download_path = os.path.expanduser('/content/')\n",
        "\n",
        "labels = []\n",
        "images = []\n",
        "\n",
        "for file in os.listdir(local_download_path):\n",
        "\n",
        "    file_name, file_extension = os.path.splitext(file)\n",
        "    if (file_extension in ['.png','.jpeg','.jpg']):\n",
        "       img = cv2.imread(file)\n",
        "       img = cv2.resize(img,(160,160))     \n",
        "       images.append(img)\n",
        "\n",
        "       labels.append(labels_set[file_name])\n",
        "\n",
        "\n",
        "\n",
        "images = np.array(images)\n",
        "labels = np.array(labels)"
      ],
      "metadata": {
        "id": "2djTlMuFZPgE"
      },
      "execution_count": 89,
      "outputs": []
    },
    {
      "cell_type": "code",
      "source": [
        "labels "
      ],
      "metadata": {
        "colab": {
          "base_uri": "https://localhost:8080/"
        },
        "id": "3yc1ius2cBeu",
        "outputId": "13b07273-a25f-49c9-8188-4d0ff96608cd"
      },
      "execution_count": 90,
      "outputs": [
        {
          "output_type": "execute_result",
          "data": {
            "text/plain": [
              "array([1, 0, 1, 1, 1, 1, 0, 0, 0, 1, 1, 1, 1, 1, 1, 1, 1, 0, 1, 1, 1, 1,\n",
              "       0, 1, 1, 0, 1, 1, 1, 1, 1, 0, 1, 0, 1, 1, 1, 0, 0, 1, 1, 1, 0, 1,\n",
              "       1, 1, 0, 1, 1, 0, 1, 0, 1, 0, 1, 1, 1, 1, 1, 0, 1, 1, 1, 1, 1, 1,\n",
              "       0, 1, 1, 1, 1, 1, 1, 0, 1, 1, 0, 0, 1, 1, 1, 1, 1, 1, 1, 0, 1, 1,\n",
              "       1, 1, 1, 1, 0, 1, 1, 0, 1, 0, 1, 1, 0, 1, 1, 1, 1, 1, 1, 0, 1, 1,\n",
              "       0, 1, 1, 1, 1, 1, 1, 1, 1, 1, 1, 1, 1, 1, 0, 1, 1, 1, 0, 1, 0, 1,\n",
              "       1, 0, 1, 1, 1, 0, 1, 1, 1, 0, 1, 1, 1, 0, 0, 1, 1, 1, 1, 1, 0, 1,\n",
              "       0, 1, 1, 1, 1, 0, 1, 0, 0, 1, 0, 1, 1, 1, 1, 1, 1, 1, 1, 1, 1, 1,\n",
              "       0, 1, 1, 1, 0, 1, 1, 1, 1, 1, 1, 1, 0, 1, 1, 1, 1, 1, 1, 1, 1, 1,\n",
              "       0, 1, 1, 1, 1, 0, 1, 1, 1, 0, 1, 0, 1, 0, 1, 1, 1, 0, 0, 1, 1, 1,\n",
              "       0, 1, 1, 1, 1, 1, 1, 1, 1, 1, 1, 1, 1, 1, 1, 1, 0, 0, 0, 1, 0, 1,\n",
              "       0, 0, 1, 1, 0, 1, 1, 1, 1, 0, 1, 0, 1, 0, 0, 1, 0, 0, 0, 0, 0, 1,\n",
              "       1, 1, 0, 0, 0, 1, 0, 0, 1, 1, 0, 1, 0, 1, 1, 0, 0, 0, 0, 0, 1, 1,\n",
              "       0, 1, 1, 1, 1, 1, 1, 1, 0, 1, 1, 0, 0, 0, 1, 1, 1, 0, 1, 1, 1, 1,\n",
              "       1, 1, 1, 0, 0, 1, 1, 1, 1, 1, 1, 1, 1, 1, 1, 1, 1, 1, 1, 0, 0, 0,\n",
              "       1, 1, 1, 1, 0, 1, 0, 0, 1, 0, 1, 1, 0, 0, 1, 1, 0, 1, 1, 1, 1, 0,\n",
              "       1, 0, 1, 0, 1, 0, 0, 1, 0, 1, 1, 1, 0, 1, 1, 0, 1, 1, 1, 1, 1, 1,\n",
              "       1, 1, 1, 1, 0, 1, 0, 1, 1, 1, 0, 0, 1, 1, 0, 1, 1, 1, 1, 1, 1, 0,\n",
              "       1, 1, 1])"
            ]
          },
          "metadata": {},
          "execution_count": 90
        }
      ]
    },
    {
      "cell_type": "markdown",
      "source": [
        ""
      ],
      "metadata": {
        "id": "5dnoiySCcAyF"
      }
    },
    {
      "cell_type": "code",
      "source": [
        "labels"
      ],
      "metadata": {
        "colab": {
          "base_uri": "https://localhost:8080/"
        },
        "id": "wCf6r2JJblbU",
        "outputId": "3802c5d2-6cca-40d2-f532-041a454c2837"
      },
      "execution_count": 18,
      "outputs": [
        {
          "output_type": "execute_result",
          "data": {
            "text/plain": [
              "array([], dtype=float64)"
            ]
          },
          "metadata": {},
          "execution_count": 18
        }
      ]
    },
    {
      "cell_type": "code",
      "source": [
        "x_train, x_test, y_train, y_test = train_test_split(images,labels, stratify = labels, random_state = 2)"
      ],
      "metadata": {
        "id": "tS-PsZcWYzVt"
      },
      "execution_count": 32,
      "outputs": []
    },
    {
      "cell_type": "code",
      "source": [
        "x_train = x_train / 255\n",
        "x_test = x_test / 255"
      ],
      "metadata": {
        "id": "zh7tWWmuZOO1"
      },
      "execution_count": 34,
      "outputs": []
    },
    {
      "cell_type": "code",
      "source": [
        "x_train.shape[1:]"
      ],
      "metadata": {
        "colab": {
          "base_uri": "https://localhost:8080/"
        },
        "id": "ic7Qt61Scymg",
        "outputId": "c457cebc-34a7-4cd9-b6b5-82dfd11916fc"
      },
      "execution_count": 44,
      "outputs": [
        {
          "output_type": "execute_result",
          "data": {
            "text/plain": [
              "(160, 160, 3)"
            ]
          },
          "metadata": {},
          "execution_count": 44
        }
      ]
    },
    {
      "cell_type": "code",
      "source": [
        "cnn_model = keras.Sequential([\n",
        "      layers.Conv2D(filters = 32, kernel_size = (3,3),input_shape=(160, 160, 3), activation = 'relu'),\n",
        "      layers.Dropout(0.5),\n",
        "      layers.Flatten(),\n",
        "      layers.Dense(128, activation='relu'),\n",
        "      layers.Dense(128, activation='relu'),\n",
        "      layers.Dense(64, activation='relu'),\n",
        "      layers.Dropout(0.5),\n",
        "      layers.Dense(1, activation='sigmoid')\n",
        "])"
      ],
      "metadata": {
        "id": "vEKKmrAmYMCO"
      },
      "execution_count": 47,
      "outputs": []
    },
    {
      "cell_type": "code",
      "source": [
        "cnn_model.summary()"
      ],
      "metadata": {
        "colab": {
          "base_uri": "https://localhost:8080/"
        },
        "id": "fEYWyzgCcWJf",
        "outputId": "6e791a7c-b3c6-4d27-ea41-8f2b47043e23"
      },
      "execution_count": 48,
      "outputs": [
        {
          "output_type": "stream",
          "name": "stdout",
          "text": [
            "Model: \"sequential_4\"\n",
            "_________________________________________________________________\n",
            " Layer (type)                Output Shape              Param #   \n",
            "=================================================================\n",
            " conv2d_4 (Conv2D)           (None, 158, 158, 32)      896       \n",
            "                                                                 \n",
            " dropout_8 (Dropout)         (None, 158, 158, 32)      0         \n",
            "                                                                 \n",
            " flatten_4 (Flatten)         (None, 798848)            0         \n",
            "                                                                 \n",
            " dense_16 (Dense)            (None, 128)               102252672 \n",
            "                                                                 \n",
            " dense_17 (Dense)            (None, 128)               16512     \n",
            "                                                                 \n",
            " dense_18 (Dense)            (None, 64)                8256      \n",
            "                                                                 \n",
            " dropout_9 (Dropout)         (None, 64)                0         \n",
            "                                                                 \n",
            " dense_19 (Dense)            (None, 1)                 65        \n",
            "                                                                 \n",
            "=================================================================\n",
            "Total params: 102,278,401\n",
            "Trainable params: 102,278,401\n",
            "Non-trainable params: 0\n",
            "_________________________________________________________________\n"
          ]
        }
      ]
    },
    {
      "cell_type": "code",
      "source": [
        "cnn_model.compile(loss='binary_crossentropy', \n",
        "                  optimizer=tf.keras.optimizers.Adam(),\n",
        "                  metrics=['accuracy'])"
      ],
      "metadata": {
        "id": "loqE-AkHYMEc"
      },
      "execution_count": 49,
      "outputs": []
    },
    {
      "cell_type": "code",
      "source": [
        "history = cnn_model.fit(\n",
        "  x_train, y_train,\n",
        "  batch_size = 16,\n",
        "  epochs = 10,\n",
        "  validation_data = (x_test, y_test),\n",
        "  verbose = 1\n",
        ")"
      ],
      "metadata": {
        "colab": {
          "base_uri": "https://localhost:8080/"
        },
        "id": "s2xO4iBaYMIz",
        "outputId": "88b3ef14-d020-4895-cc36-8cbf6ad31f1a"
      },
      "execution_count": 52,
      "outputs": [
        {
          "output_type": "stream",
          "name": "stdout",
          "text": [
            "Epoch 1/10\n",
            "15/15 [==============================] - 17s 1s/step - loss: 0.2130 - accuracy: 0.9333 - val_loss: 0.2498 - val_accuracy: 0.9467\n",
            "Epoch 2/10\n",
            "15/15 [==============================] - 17s 1s/step - loss: 0.1985 - accuracy: 0.9556 - val_loss: 0.2203 - val_accuracy: 0.9467\n",
            "Epoch 3/10\n",
            "15/15 [==============================] - 16s 1s/step - loss: 0.2039 - accuracy: 0.9511 - val_loss: 0.2751 - val_accuracy: 0.9333\n",
            "Epoch 4/10\n",
            "15/15 [==============================] - 16s 1s/step - loss: 0.1251 - accuracy: 0.9600 - val_loss: 0.2785 - val_accuracy: 0.9333\n",
            "Epoch 5/10\n",
            "15/15 [==============================] - 16s 1s/step - loss: 0.1192 - accuracy: 0.9689 - val_loss: 0.3450 - val_accuracy: 0.9333\n",
            "Epoch 6/10\n",
            "15/15 [==============================] - 16s 1s/step - loss: 0.0849 - accuracy: 0.9600 - val_loss: 0.3630 - val_accuracy: 0.9200\n",
            "Epoch 7/10\n",
            "15/15 [==============================] - 16s 1s/step - loss: 0.0516 - accuracy: 0.9778 - val_loss: 0.5854 - val_accuracy: 0.9200\n",
            "Epoch 8/10\n",
            "15/15 [==============================] - 16s 1s/step - loss: 0.0662 - accuracy: 0.9733 - val_loss: 0.6802 - val_accuracy: 0.9067\n",
            "Epoch 9/10\n",
            "15/15 [==============================] - 16s 1s/step - loss: 0.0315 - accuracy: 0.9867 - val_loss: 0.5896 - val_accuracy: 0.9067\n",
            "Epoch 10/10\n",
            "15/15 [==============================] - 16s 1s/step - loss: 0.0271 - accuracy: 0.9867 - val_loss: 0.7443 - val_accuracy: 0.9067\n"
          ]
        }
      ]
    },
    {
      "cell_type": "code",
      "source": [
        "np.sum(y_test) / len(y_test)\n",
        "np.sum(y_train) / len(y_train)"
      ],
      "metadata": {
        "colab": {
          "base_uri": "https://localhost:8080/"
        },
        "id": "DTTxTmrddkTo",
        "outputId": "4378206b-5f3a-467c-d7fc-ae1a0150435e"
      },
      "execution_count": 56,
      "outputs": [
        {
          "output_type": "execute_result",
          "data": {
            "text/plain": [
              "0.9555555555555556"
            ]
          },
          "metadata": {},
          "execution_count": 56
        }
      ]
    },
    {
      "cell_type": "code",
      "source": [
        "def plot_loss(history, ylim=(0,1)):\n",
        "  plt.plot(history.history['accuracy'], label='accuracy')\n",
        "  plt.plot(history.history['val_accuracy'], label='val_accuracy')\n",
        "  plt.ylim(ylim)\n",
        "  plt.xlabel('Epoch')\n",
        "  plt.ylabel('Accuracy')\n",
        "  plt.legend()\n",
        "  plt.grid(True)\n",
        "\n",
        "plot_loss(history, ylim=(0.7, 1))"
      ],
      "metadata": {
        "id": "lxrU0S8RYpVz"
      },
      "execution_count": null,
      "outputs": []
    },
    {
      "cell_type": "code",
      "source": [
        ""
      ],
      "metadata": {
        "id": "dtct6fxDYpYW"
      },
      "execution_count": null,
      "outputs": []
    },
    {
      "cell_type": "code",
      "source": [
        ""
      ],
      "metadata": {
        "id": "wBVdhT5IYpas"
      },
      "execution_count": null,
      "outputs": []
    },
    {
      "cell_type": "code",
      "source": [
        ""
      ],
      "metadata": {
        "id": "BtakiHc0Ypcu"
      },
      "execution_count": null,
      "outputs": []
    }
  ]
}